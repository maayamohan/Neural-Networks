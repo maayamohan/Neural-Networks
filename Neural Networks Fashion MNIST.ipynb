{
 "cells": [
  {
   "cell_type": "code",
   "execution_count": 10,
   "id": "cec431df-9042-4d1c-94f2-4d9dc5dc7ec0",
   "metadata": {},
   "outputs": [],
   "source": [
    "# importing required modules\n",
    "import numpy as np\n",
    "import matplotlib.pyplot as plt\n",
    "from tensorflow.keras.datasets import fashion_mnist"
   ]
  },
  {
   "cell_type": "code",
   "execution_count": 11,
   "id": "1ff1cdcf-c6ac-40a0-8760-d0ed3da969a8",
   "metadata": {},
   "outputs": [],
   "source": [
    "import ssl\n",
    "\n",
    "try:\n",
    "    _create_unverified_https_context = ssl._create_unverified_context\n",
    "except AttributeError:\n",
    "    # Legacy Python that doesn't verify HTTPS certificates by default\n",
    "    pass\n",
    "else:\n",
    "    # Handle target environment that doesn't support HTTPS verification\n",
    "    ssl._create_default_https_context = _create_unverified_https_context"
   ]
  },
  {
   "cell_type": "code",
   "execution_count": 12,
   "id": "de0f3e87-12dd-46f3-bec5-5167ab6a250f",
   "metadata": {},
   "outputs": [],
   "source": [
    "# loading data\n",
    "(x_train, y_train), (x_test, y_test) = fashion_mnist.load_data()"
   ]
  },
  {
   "cell_type": "code",
   "execution_count": 13,
   "id": "0c48ca78-2e0f-423d-b568-56e764628fa9",
   "metadata": {},
   "outputs": [],
   "source": [
    "# checking if all data is loaded properly\n",
    "assert x_train.shape == (60000, 28, 28)\n",
    "assert x_test.shape == (10000, 28, 28)\n",
    "assert y_train.shape == (60000,)\n",
    "assert y_test.shape == (10000,)"
   ]
  },
  {
   "cell_type": "code",
   "execution_count": 14,
   "id": "9d91a7c8-bcfd-47c2-884d-8535d75a8c07",
   "metadata": {},
   "outputs": [],
   "source": [
    "# flattening and normalizing the input data\n",
    "x_train = x_train.reshape(x_train.shape[0], -1) / 255.0\n",
    "x_test = x_test.reshape(x_test.shape[0], -1) / 255.0"
   ]
  },
  {
   "cell_type": "code",
   "execution_count": 15,
   "id": "0dff415c-ada2-4034-b010-4558f44b360b",
   "metadata": {},
   "outputs": [],
   "source": [
    "# one-hot encoding (creating an identity matrix corresponding to the number of categories)\n",
    "def one_hot_encode(y, num_classes):\n",
    "    return np.eye(num_classes)[y]"
   ]
  },
  {
   "cell_type": "code",
   "execution_count": 16,
   "id": "90869f76-edcb-40af-a8c4-a2f9cac5a0cf",
   "metadata": {},
   "outputs": [],
   "source": [
    "# applying one-hot encoding (creating 10x10 matrix for the 10 categories of digits)\n",
    "y_train_encoded = one_hot_encode(y_train, 10)\n",
    "y_test_encoded = one_hot_encode(y_test, 10)"
   ]
  },
  {
   "cell_type": "code",
   "execution_count": 17,
   "id": "93eaca66-8247-4327-aa98-bed800f485b2",
   "metadata": {},
   "outputs": [],
   "source": [
    "class NeuralNetwork:\n",
    "    def __init__(self, input_size, hidden_size, output_size, learning_rate=0.01, l1_lambda=0.0, l2_lambda=0.0):\n",
    "        self.W1 = np.random.randn(input_size, hidden_size) * 0.01\n",
    "        self.b1 = np.zeros((1, hidden_size))\n",
    "        self.W2 = np.random.randn(hidden_size, output_size) * 0.01\n",
    "        self.b2 = np.zeros((1, output_size))\n",
    "        self.learning_rate = learning_rate\n",
    "        self.l1_lambda = l1_lambda\n",
    "        self.l2_lambda = l2_lambda\n",
    "\n",
    "    def softmax(self, x):\n",
    "        exp_x = np.exp(x - np.max(x, axis=1, keepdims=True))\n",
    "        return exp_x / np.sum(exp_x, axis=1, keepdims=True)\n",
    "\n",
    "    def forward(self, X):\n",
    "        self.z1 = np.dot(X, self.W1) + self.b1\n",
    "        self.a1 = np.tanh(self.z1)\n",
    "        self.z2 = np.dot(self.a1, self.W2) + self.b2\n",
    "        self.a2 = self.softmax(self.z2)\n",
    "        return self.a2\n",
    "\n",
    "    def backward(self, X, y, output):\n",
    "        m = X.shape[0]\n",
    "        output_error = output - y\n",
    "        hidden_error = np.dot(output_error, self.W2.T) * (1 - np.tanh(self.z1) ** 2)\n",
    "\n",
    "        dW2 = np.dot(self.a1.T, output_error) / m\n",
    "        db2 = np.sum(output_error, axis=0, keepdims=True) / m\n",
    "        dW1 = np.dot(X.T, hidden_error) / m\n",
    "        db1 = np.sum(hidden_error, axis=0, keepdims=True) / m\n",
    "\n",
    "        # L1 regularization\n",
    "        dW1 += self.l1_lambda * np.sign(self.W1)\n",
    "        dW2 += self.l1_lambda * np.sign(self.W2)\n",
    "\n",
    "        # L2 regularization\n",
    "        dW1 += self.l2_lambda * self.W1\n",
    "        dW2 += self.l2_lambda * self.W2\n",
    "\n",
    "        self.W1 -= self.learning_rate * dW1\n",
    "        self.b1 -= self.learning_rate * db1\n",
    "        self.W2 -= self.learning_rate * dW2\n",
    "        self.b2 -= self.learning_rate * db2\n",
    "\n",
    "    def train(self, X, y, epochs):\n",
    "        for epoch in range(epochs):\n",
    "            output = self.forward(X)\n",
    "            self.backward(X, y, output)\n",
    "            if epoch % 10 == 0:\n",
    "                loss = -np.mean(np.sum(y * np.log(output + 1e-10), axis=1))\n",
    "                print(f\"Epoch {epoch}, Loss: {loss:.4f}\")\n",
    "\n",
    "    def predict(self, X):\n",
    "        output = self.forward(X)\n",
    "        return np.argmax(output, axis=1)"
   ]
  },
  {
   "cell_type": "code",
   "execution_count": 18,
   "id": "856b1405-8710-45be-b3c5-db7ca0bf0d7b",
   "metadata": {},
   "outputs": [],
   "source": [
    "# Hyperparameters\n",
    "input_size = 784  # 28x28 pixels\n",
    "hidden_size = 64  # Number of neurons in the hidden layer\n",
    "output_size = 10   # 10 classes for digits 0-9\n",
    "learning_rate = 0.5\n",
    "epochs = 1000"
   ]
  },
  {
   "cell_type": "code",
   "execution_count": null,
   "id": "2d80e92e-c4db-4277-bcff-f6825e57ade1",
   "metadata": {},
   "outputs": [
    {
     "name": "stdout",
     "output_type": "stream",
     "text": [
      "Epoch 0, Loss: 2.3017\n",
      "Epoch 10, Loss: 1.4750\n",
      "Epoch 20, Loss: 1.1990\n",
      "Epoch 30, Loss: 0.9772\n",
      "Epoch 40, Loss: 0.7969\n",
      "Epoch 50, Loss: 0.7436\n",
      "Epoch 60, Loss: 0.6947\n",
      "Epoch 70, Loss: 0.6626\n",
      "Epoch 80, Loss: 0.6397\n",
      "Epoch 90, Loss: 0.6432\n",
      "Epoch 100, Loss: 0.6085\n",
      "Epoch 110, Loss: 0.5928\n",
      "Epoch 120, Loss: 0.5678\n",
      "Epoch 130, Loss: 0.5520\n",
      "Epoch 140, Loss: 0.5371\n",
      "Epoch 150, Loss: 0.5466\n",
      "Epoch 160, Loss: 0.5311\n",
      "Epoch 170, Loss: 0.5232\n",
      "Epoch 180, Loss: 0.5151\n",
      "Epoch 190, Loss: 0.4932\n",
      "Epoch 200, Loss: 0.5121\n",
      "Epoch 210, Loss: 0.4896\n",
      "Epoch 220, Loss: 0.6267\n"
     ]
    }
   ],
   "source": [
    "# Train without regularization\n",
    "nn_no_reg = NeuralNetwork(input_size, hidden_size, output_size, learning_rate)\n",
    "nn_no_reg.train(x_train, y_train_encoded, epochs)\n",
    "predictions_no_reg = nn_no_reg.predict(x_test)\n",
    "accuracy_no_reg = np.mean(predictions_no_reg == y_test)\n",
    "print(f\"Test Accuracy (No Regularization): {accuracy_no_reg:.4f}\")"
   ]
  },
  {
   "cell_type": "code",
   "execution_count": null,
   "id": "0b1b7a81-8afc-43b5-a2b5-f0b275a34526",
   "metadata": {},
   "outputs": [],
   "source": []
  }
 ],
 "metadata": {
  "kernelspec": {
   "display_name": "Python 3 (ipykernel)",
   "language": "python",
   "name": "python3"
  },
  "language_info": {
   "codemirror_mode": {
    "name": "ipython",
    "version": 3
   },
   "file_extension": ".py",
   "mimetype": "text/x-python",
   "name": "python",
   "nbconvert_exporter": "python",
   "pygments_lexer": "ipython3",
   "version": "3.11.5"
  }
 },
 "nbformat": 4,
 "nbformat_minor": 5
}
